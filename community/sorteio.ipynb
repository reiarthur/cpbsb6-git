{
 "cells": [
  {
   "cell_type": "code",
   "execution_count": 7,
   "metadata": {},
   "outputs": [
    {
     "name": "stdout",
     "output_type": "stream",
     "text": [
      "Arthur\n"
     ]
    }
   ],
   "source": [
    "import random\n",
    "\n",
    "# Suponha que esta seja a sua lista\n",
    "minha_lista = ['AlanSouza', 'Alvaro', 'Fernando', 'Levi', 'Naylla','Arthur']\n",
    "\n",
    "# Usando random.choice() para pegar um elemento aleatório\n",
    "elemento_aleatorio = random.choice(minha_lista)\n",
    "\n",
    "print(elemento_aleatorio)\n"
   ]
  }
 ],
 "metadata": {
  "kernelspec": {
   "display_name": "base",
   "language": "python",
   "name": "python3"
  },
  "language_info": {
   "codemirror_mode": {
    "name": "ipython",
    "version": 3
   },
   "file_extension": ".py",
   "mimetype": "text/x-python",
   "name": "python",
   "nbconvert_exporter": "python",
   "pygments_lexer": "ipython3",
   "version": "3.11.7"
  }
 },
 "nbformat": 4,
 "nbformat_minor": 2
}
